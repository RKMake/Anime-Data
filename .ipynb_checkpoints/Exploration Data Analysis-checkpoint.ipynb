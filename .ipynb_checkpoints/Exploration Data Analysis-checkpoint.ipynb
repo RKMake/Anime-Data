{
 "cells": [
  {
   "cell_type": "markdown",
   "metadata": {},
   "source": [
    "# Next Level Data Visualization in Python using Plotly"
   ]
  },
  {
   "cell_type": "markdown",
   "metadata": {},
   "source": [
    "In order to try and learn new data analysis tools and especially visualization ones, I decided to explore and learn the opensource library Plotly which seemed at first glance to offer a lot of great possibilities.\n",
    "\n",
    "Most people are familiar with matplotlib but will notice how hard it can be to figure out how to add y-axis or how to format dates and so on. This is where Plotly comes handy for the visualization of your data."
   ]
  },
  {
   "cell_type": "markdown",
   "metadata": {},
   "source": [
    "### Plotly intro"
   ]
  },
  {
   "cell_type": "markdown",
   "metadata": {},
   "source": [
    "Plotly is an opensource library which is build on plotly.js which is also build on d3.js.\n",
    "\n",
    "For those who don't know, d3.js is a JavaScript library for manipulating documents based on data. D3 helps to bring data to life using HTML, SVG, and CSS. D3’s emphasis on web standards gives you the full capabilities of modern browsers without tying yourself to a proprietary framework, combining powerful visualization components and a data-driven approach to DOM manipulation.\n",
    "\n",
    "Which means we get the efficiency of coding in Python with the incredible interactive graphics capabilities of d3."
   ]
  },
  {
   "cell_type": "markdown",
   "metadata": {},
   "source": [
    "# Exploratory Data Analysis and Visualization"
   ]
  },
  {
   "cell_type": "markdown",
   "metadata": {},
   "source": [
    "### The Dataset"
   ]
  },
  {
   "cell_type": "markdown",
   "metadata": {},
   "source": [
    "Being a fan of anime and manga, I felt the urge to use the data provided by MyAnimeList to explore it and get some insights about all the shows I have binged and am going to binge (the dataset is avalaible on Kaggle).\n",
    "\n",
    "Lets import it and get a glance of it to see what this dataset looks like.\n",
    "First lets load the data with Pandas and check it size."
   ]
  },
  {
   "cell_type": "code",
   "execution_count": 3,
   "metadata": {},
   "outputs": [
    {
     "data": {
      "text/plain": [
       "(12294, 7)"
      ]
     },
     "execution_count": 3,
     "metadata": {},
     "output_type": "execute_result"
    }
   ],
   "source": [
    "import pandas as pd\n",
    "df = pd.read_csv(\"datasets_571_1094_anime.csv\")\n",
    "df.shape"
   ]
  },
  {
   "cell_type": "markdown",
   "metadata": {},
   "source": [
    "We can see that the dataset has 7 different columns and 12294 rows, thats a lot of anime to watch if I do say so myself.\n",
    "\n",
    "Whats does the dataset really look like ?"
   ]
  },
  {
   "cell_type": "code",
   "execution_count": 4,
   "metadata": {},
   "outputs": [
    {
     "data": {
      "text/html": [
       "<div>\n",
       "<style scoped>\n",
       "    .dataframe tbody tr th:only-of-type {\n",
       "        vertical-align: middle;\n",
       "    }\n",
       "\n",
       "    .dataframe tbody tr th {\n",
       "        vertical-align: top;\n",
       "    }\n",
       "\n",
       "    .dataframe thead th {\n",
       "        text-align: right;\n",
       "    }\n",
       "</style>\n",
       "<table border=\"1\" class=\"dataframe\">\n",
       "  <thead>\n",
       "    <tr style=\"text-align: right;\">\n",
       "      <th></th>\n",
       "      <th>anime_id</th>\n",
       "      <th>name</th>\n",
       "      <th>genre</th>\n",
       "      <th>type</th>\n",
       "      <th>episodes</th>\n",
       "      <th>rating</th>\n",
       "      <th>members</th>\n",
       "    </tr>\n",
       "  </thead>\n",
       "  <tbody>\n",
       "    <tr>\n",
       "      <td>0</td>\n",
       "      <td>32281</td>\n",
       "      <td>Kimi no Na wa.</td>\n",
       "      <td>Drama, Romance, School, Supernatural</td>\n",
       "      <td>Movie</td>\n",
       "      <td>1</td>\n",
       "      <td>9.37</td>\n",
       "      <td>200630</td>\n",
       "    </tr>\n",
       "    <tr>\n",
       "      <td>1</td>\n",
       "      <td>5114</td>\n",
       "      <td>Fullmetal Alchemist: Brotherhood</td>\n",
       "      <td>Action, Adventure, Drama, Fantasy, Magic, Mili...</td>\n",
       "      <td>TV</td>\n",
       "      <td>64</td>\n",
       "      <td>9.26</td>\n",
       "      <td>793665</td>\n",
       "    </tr>\n",
       "    <tr>\n",
       "      <td>2</td>\n",
       "      <td>28977</td>\n",
       "      <td>Gintama°</td>\n",
       "      <td>Action, Comedy, Historical, Parody, Samurai, S...</td>\n",
       "      <td>TV</td>\n",
       "      <td>51</td>\n",
       "      <td>9.25</td>\n",
       "      <td>114262</td>\n",
       "    </tr>\n",
       "    <tr>\n",
       "      <td>3</td>\n",
       "      <td>9253</td>\n",
       "      <td>Steins;Gate</td>\n",
       "      <td>Sci-Fi, Thriller</td>\n",
       "      <td>TV</td>\n",
       "      <td>24</td>\n",
       "      <td>9.17</td>\n",
       "      <td>673572</td>\n",
       "    </tr>\n",
       "    <tr>\n",
       "      <td>4</td>\n",
       "      <td>9969</td>\n",
       "      <td>Gintama&amp;#039;</td>\n",
       "      <td>Action, Comedy, Historical, Parody, Samurai, S...</td>\n",
       "      <td>TV</td>\n",
       "      <td>51</td>\n",
       "      <td>9.16</td>\n",
       "      <td>151266</td>\n",
       "    </tr>\n",
       "  </tbody>\n",
       "</table>\n",
       "</div>"
      ],
      "text/plain": [
       "   anime_id                              name  \\\n",
       "0     32281                    Kimi no Na wa.   \n",
       "1      5114  Fullmetal Alchemist: Brotherhood   \n",
       "2     28977                          Gintama°   \n",
       "3      9253                       Steins;Gate   \n",
       "4      9969                     Gintama&#039;   \n",
       "\n",
       "                                               genre   type episodes  rating  \\\n",
       "0               Drama, Romance, School, Supernatural  Movie        1    9.37   \n",
       "1  Action, Adventure, Drama, Fantasy, Magic, Mili...     TV       64    9.26   \n",
       "2  Action, Comedy, Historical, Parody, Samurai, S...     TV       51    9.25   \n",
       "3                                   Sci-Fi, Thriller     TV       24    9.17   \n",
       "4  Action, Comedy, Historical, Parody, Samurai, S...     TV       51    9.16   \n",
       "\n",
       "   members  \n",
       "0   200630  \n",
       "1   793665  \n",
       "2   114262  \n",
       "3   673572  \n",
       "4   151266  "
      ]
     },
     "execution_count": 4,
     "metadata": {},
     "output_type": "execute_result"
    }
   ],
   "source": [
    "df.head()"
   ]
  },
  {
   "cell_type": "markdown",
   "metadata": {},
   "source": [
    "Pretty straightforward as we can see. We have the __anime_id__, its __name__, __genre__, number of __episode__ (1 being probably a movie), __ratings__ and finaly __members__ (people who watched the anime).\n",
    "\n",
    "With that we can already look for meaningful informations such us the __mean rating__ of all the anime, the __number of movies__ there are in the dataset and even the genres which have the most members or the least one for example.\n",
    "\n",
    "There are a lot of possibilities ! But first lest see if our dataset is complete."
   ]
  },
  {
   "cell_type": "code",
   "execution_count": 7,
   "metadata": {},
   "outputs": [
    {
     "name": "stdout",
     "output_type": "stream",
     "text": [
      "Percentage of missing values in our dataset : \n",
      "\n",
      "anime_id: 0.0%\n",
      "name: 0.0%\n",
      "genre: 0.5043110460387181%\n",
      "type: 0.20335122824141857%\n",
      "episodes: 0.0%\n",
      "rating: 1.870831299821051%\n",
      "members: 0.0%\n"
     ]
    }
   ],
   "source": [
    "def NaN_percent(df, column_name):\n",
    "    row_count = df[column_name].shape[0]\n",
    "    empty_values = row_count - df[column_name].count()\n",
    "    return (100.0*empty_values)/row_count\n",
    "\n",
    "print(\"Percentage of missing values in our dataset : \\n\")\n",
    "\n",
    "for i in list(df):\n",
    "    print(i +': ' + str(NaN_percent(df,i))+'%')  "
   ]
  },
  {
   "cell_type": "markdown",
   "metadata": {},
   "source": [
    "As we can see, there are only a few columns which has missing values. The column with the most missing values being the __rating__ one. \n",
    "We can guess that people who didn't rate an anime are those who didn't finished that anime or dropped it without rating it.\n",
    "\n",
    "So we have approximatively 2% of anime which didn't get any ratings. Lest see them\n"
   ]
  },
  {
   "cell_type": "code",
   "execution_count": 9,
   "metadata": {},
   "outputs": [
    {
     "data": {
      "text/html": [
       "<div>\n",
       "<style scoped>\n",
       "    .dataframe tbody tr th:only-of-type {\n",
       "        vertical-align: middle;\n",
       "    }\n",
       "\n",
       "    .dataframe tbody tr th {\n",
       "        vertical-align: top;\n",
       "    }\n",
       "\n",
       "    .dataframe thead th {\n",
       "        text-align: right;\n",
       "    }\n",
       "</style>\n",
       "<table border=\"1\" class=\"dataframe\">\n",
       "  <thead>\n",
       "    <tr style=\"text-align: right;\">\n",
       "      <th></th>\n",
       "      <th>anime_id</th>\n",
       "      <th>name</th>\n",
       "      <th>genre</th>\n",
       "      <th>type</th>\n",
       "      <th>episodes</th>\n",
       "      <th>rating</th>\n",
       "      <th>members</th>\n",
       "    </tr>\n",
       "  </thead>\n",
       "  <tbody>\n",
       "    <tr>\n",
       "      <td>8968</td>\n",
       "      <td>34502</td>\n",
       "      <td>Inazma Delivery</td>\n",
       "      <td>Action, Comedy, Sci-Fi</td>\n",
       "      <td>TV</td>\n",
       "      <td>10</td>\n",
       "      <td>NaN</td>\n",
       "      <td>32</td>\n",
       "    </tr>\n",
       "    <tr>\n",
       "      <td>9657</td>\n",
       "      <td>34309</td>\n",
       "      <td>Nananin no Ayakashi: Chimi Chimi Mouryou!! Gen...</td>\n",
       "      <td>Comedy, Supernatural</td>\n",
       "      <td>TV</td>\n",
       "      <td>Unknown</td>\n",
       "      <td>NaN</td>\n",
       "      <td>129</td>\n",
       "    </tr>\n",
       "    <tr>\n",
       "      <td>10896</td>\n",
       "      <td>34096</td>\n",
       "      <td>Gintama (2017)</td>\n",
       "      <td>Action, Comedy, Historical, Parody, Samurai, S...</td>\n",
       "      <td>TV</td>\n",
       "      <td>Unknown</td>\n",
       "      <td>NaN</td>\n",
       "      <td>13383</td>\n",
       "    </tr>\n",
       "    <tr>\n",
       "      <td>10897</td>\n",
       "      <td>34134</td>\n",
       "      <td>One Punch Man 2</td>\n",
       "      <td>Action, Comedy, Parody, Sci-Fi, Seinen, Super ...</td>\n",
       "      <td>TV</td>\n",
       "      <td>Unknown</td>\n",
       "      <td>NaN</td>\n",
       "      <td>90706</td>\n",
       "    </tr>\n",
       "    <tr>\n",
       "      <td>10898</td>\n",
       "      <td>30484</td>\n",
       "      <td>Steins;Gate 0</td>\n",
       "      <td>Sci-Fi, Thriller</td>\n",
       "      <td>NaN</td>\n",
       "      <td>Unknown</td>\n",
       "      <td>NaN</td>\n",
       "      <td>60999</td>\n",
       "    </tr>\n",
       "  </tbody>\n",
       "</table>\n",
       "</div>"
      ],
      "text/plain": [
       "       anime_id                                               name  \\\n",
       "8968      34502                                    Inazma Delivery   \n",
       "9657      34309  Nananin no Ayakashi: Chimi Chimi Mouryou!! Gen...   \n",
       "10896     34096                                     Gintama (2017)   \n",
       "10897     34134                                    One Punch Man 2   \n",
       "10898     30484                                      Steins;Gate 0   \n",
       "\n",
       "                                                   genre type episodes  \\\n",
       "8968                              Action, Comedy, Sci-Fi   TV       10   \n",
       "9657                                Comedy, Supernatural   TV  Unknown   \n",
       "10896  Action, Comedy, Historical, Parody, Samurai, S...   TV  Unknown   \n",
       "10897  Action, Comedy, Parody, Sci-Fi, Seinen, Super ...   TV  Unknown   \n",
       "10898                                   Sci-Fi, Thriller  NaN  Unknown   \n",
       "\n",
       "       rating  members  \n",
       "8968      NaN       32  \n",
       "9657      NaN      129  \n",
       "10896     NaN    13383  \n",
       "10897     NaN    90706  \n",
       "10898     NaN    60999  "
      ]
     },
     "execution_count": 9,
     "metadata": {},
     "output_type": "execute_result"
    }
   ],
   "source": [
    "df[df['rating'].isnull()].head()"
   ]
  },
  {
   "cell_type": "markdown",
   "metadata": {},
   "source": [
    "Interesting ! Didn't expect that at all !\n",
    "\n",
    "In fact looking at this, there is a new hypothesis about those NaN values and it is about the __not yet aired anime__.\n",
    "\n",
    "When a new show is added to the database as soon as a studio announce it, it doesn't have yet any ratings and the number of episodes are still unknown, thus the missing values.\n",
    "\n",
    "We can also see that the __episodes__ columns is actually missing values because \"__unknown__\" is not a number of episode.\n",
    "\n",
    "For the next parts we will consider any anime __without__ episodes as __not yet aired anime__.\n",
    "\n",
    "Lets see how many not yet aired anime we have then."
   ]
  },
  {
   "cell_type": "code",
   "execution_count": 11,
   "metadata": {},
   "outputs": [
    {
     "name": "stdout",
     "output_type": "stream",
     "text": [
      "340\n",
      "2.765576704083293\n"
     ]
    }
   ],
   "source": [
    "print(df[df['episodes']=='Unknown'].shape[0])\n",
    "print(df[df['episodes']=='Unknown'].shape[0]*100/df.shape[0])"
   ]
  },
  {
   "cell_type": "markdown",
   "metadata": {},
   "source": [
    "So we have only 340 (2.76%) shows who were not airing at the time when this dataset was made (2017). Now *One Punch Man* and *Gintama (2017)* have aired, go watch it !"
   ]
  },
  {
   "cell_type": "code",
   "execution_count": null,
   "metadata": {},
   "outputs": [],
   "source": []
  }
 ],
 "metadata": {
  "kernelspec": {
   "display_name": "Python 3",
   "language": "python",
   "name": "python3"
  },
  "language_info": {
   "codemirror_mode": {
    "name": "ipython",
    "version": 3
   },
   "file_extension": ".py",
   "mimetype": "text/x-python",
   "name": "python",
   "nbconvert_exporter": "python",
   "pygments_lexer": "ipython3",
   "version": "3.7.4"
  }
 },
 "nbformat": 4,
 "nbformat_minor": 2
}
